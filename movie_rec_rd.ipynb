{
 "cells": [
  {
   "cell_type": "code",
   "execution_count": 1,
   "metadata": {},
   "outputs": [],
   "source": [
    "import pandas as pd\n",
    "import numpy as np\n",
    "from collections import defaultdict\n",
    "import re\n",
    "from sklearn.cluster import KMeans\n",
    "from sklearn import preprocessing\n",
    "from kmodes.kprototypes import KPrototypes\n",
    "import pickle"
   ]
  },
  {
   "cell_type": "code",
   "execution_count": 2,
   "metadata": {},
   "outputs": [],
   "source": [
    "movie_data = pd.read_csv('movie_data.csv',lineterminator='\\n')"
   ]
  },
  {
   "cell_type": "code",
   "execution_count": 3,
   "metadata": {},
   "outputs": [],
   "source": [
    "movie_data = movie_data.drop(['image_url','imdb_id','imdb_link','spoken_languages','tmdb_id','tmdb_link'],axis=1)"
   ]
  },
  {
   "cell_type": "code",
   "execution_count": 4,
   "metadata": {},
   "outputs": [],
   "source": [
    "movie_data = movie_data.dropna()"
   ]
  },
  {
   "cell_type": "code",
   "execution_count": 7,
   "metadata": {},
   "outputs": [],
   "source": [
    "genres = np.array(movie_data['genres'])"
   ]
  },
  {
   "cell_type": "code",
   "execution_count": 8,
   "metadata": {},
   "outputs": [],
   "source": [
    "for i in range(len(genres)):\n",
    "    if (type(genres[i]) is float) or (genres[i] == '[]'):\n",
    "        genres[i] = \"Unknown\""
   ]
  },
  {
   "cell_type": "code",
   "execution_count": 9,
   "metadata": {},
   "outputs": [],
   "source": [
    "for i in range(len(genres)):\n",
    "    x = genres[i].split(',')\n",
    "    for j in range(len(x)):\n",
    "        x[j] = re.sub(r'[^\\w\\s]', '', x[j])\n",
    "        x[j] = x[j].strip()\n",
    "    genres[i] = x[0:2]"
   ]
  },
  {
   "cell_type": "code",
   "execution_count": 10,
   "metadata": {},
   "outputs": [
    {
     "data": {
      "text/plain": [
       "array([list(['Music', 'Animation']), list(['Unknown']), list(['Drama']),\n",
       "       ..., list(['Family', 'Fantasy']), list(['Documentary']),\n",
       "       list(['Romance', 'Drama'])], dtype=object)"
      ]
     },
     "execution_count": 10,
     "metadata": {},
     "output_type": "execute_result"
    }
   ],
   "source": [
    "genres"
   ]
  },
  {
   "cell_type": "code",
   "execution_count": 11,
   "metadata": {},
   "outputs": [],
   "source": [
    "genres2 = []\n",
    "\n",
    "for i in range(len(genres)):\n",
    "    for j in range(len(genres[i])):\n",
    "        if genres[i][j] in genres2:\n",
    "            continue\n",
    "        else:\n",
    "            genres2.append(genres[i][j])"
   ]
  },
  {
   "cell_type": "code",
   "execution_count": 12,
   "metadata": {},
   "outputs": [],
   "source": [
    "movie_data['genres'] = genres"
   ]
  },
  {
   "cell_type": "code",
   "execution_count": 15,
   "metadata": {},
   "outputs": [],
   "source": [
    "movie_data = movie_data[movie_data.movie_title != \"They Do Everything\"]"
   ]
  },
  {
   "cell_type": "code",
   "execution_count": 16,
   "metadata": {},
   "outputs": [],
   "source": [
    "md = movie_data.to_dict()"
   ]
  },
  {
   "cell_type": "code",
   "execution_count": 17,
   "metadata": {},
   "outputs": [],
   "source": [
    "a_file = open(\"md.pkl\", \"wb\")\n",
    "pickle.dump(md, a_file)\n",
    "a_file.close()"
   ]
  },
  {
   "cell_type": "code",
   "execution_count": 61,
   "metadata": {},
   "outputs": [],
   "source": [
    "with open('md2.pkl', 'rb') as handle:\n",
    "    md = pickle.load(handle)"
   ]
  },
  {
   "cell_type": "code",
   "execution_count": 43,
   "metadata": {},
   "outputs": [],
   "source": [
    "m = 'The Birdcage'\n",
    "rd = 2006.0"
   ]
  },
  {
   "cell_type": "code",
   "execution_count": 44,
   "metadata": {},
   "outputs": [],
   "source": [
    "movie_found = False\n",
    "\n",
    "movs = []\n",
    "for key,value in md['movie_title'].items():\n",
    "    if md['movie_title'][key] == m:\n",
    "        movs.append(key) \n",
    "        movie_found = True\n",
    "        \n",
    "movs2=[]\n",
    "for i in range(len(movs)):\n",
    "    if md['year_released'][movs[i]] == rd:\n",
    "        movs2.append(movs[i]) \n",
    "        \n",
    "if len(movs2) == 0:\n",
    "    movie_found = False\n",
    "    \n",
    "if len(movs2) > 0:  \n",
    "    index = movs2[0]        \n",
    "    gen = md['genres'][index]\n",
    "    ol = md['original_language'][index]\n",
    "\n",
    "    ids = []\n",
    "    for key,value in md['genres'].items():\n",
    "        if md['genres'][key] == gen:\n",
    "            ids.append(key)\n",
    "\n",
    "    lst2 = []\n",
    "    if rd >= 2000:\n",
    "        for i in range(len(ids)):\n",
    "            if md['year_released'][ids[i]] >= 2000:\n",
    "                lst2.append(ids[i])\n",
    "    if (rd < 2000) and (rd >= 1970):\n",
    "        for j in range(len(ids)):\n",
    "            if (md['year_released'][ids[j]] < 2000) and (md['year_released'][ids[j]] >= 1970):\n",
    "                lst2.append(ids[j])\n",
    "\n",
    "    if rd < 1970:\n",
    "        for k in range(len(ids)):\n",
    "            if (md['year_released'][ids[k]] < 1970):\n",
    "                lst2.append(ids[k])\n",
    "\n",
    "    lst3 = []\n",
    "    for i in range(len(lst2)):\n",
    "        if md['original_language'][lst2[i]] == ol:\n",
    "            lst3.append(lst2[i])\n",
    "\n",
    "    pop_d = {}\n",
    "    for i in range(len(lst3)):\n",
    "        pop_d[lst3[i]] = md['popularity'][lst3[i]]\n",
    "\n",
    "    new_d = dict(sorted(pop_d.items(), key=lambda item: item[1], reverse=True))\n",
    "\n",
    "    res = list(new_d.keys())\n",
    "\n",
    "    for i in range(len(res)):\n",
    "        if md['movie_title'][res[i]] == m:\n",
    "            continue\n",
    "        else:\n",
    "            out = md['movie_title'][res[i]]\n",
    "            overview = md['overview'][res[i]]\n",
    "            break\n",
    "            \n",
    "if movie_found == False:\n",
    "    out = \"Movie Not Found\"\n",
    "    overview = \"Movie Not Found\"\n",
    "    "
   ]
  },
  {
   "cell_type": "code",
   "execution_count": 45,
   "metadata": {},
   "outputs": [
    {
     "name": "stdout",
     "output_type": "stream",
     "text": [
      "Movie Not Found\n",
      " \n",
      "Movie Not Found\n"
     ]
    }
   ],
   "source": [
    "print(out)\n",
    "print(' ')\n",
    "print(overview)"
   ]
  },
  {
   "cell_type": "code",
   "execution_count": null,
   "metadata": {},
   "outputs": [],
   "source": []
  }
 ],
 "metadata": {
  "kernelspec": {
   "display_name": "Python 3 (ipykernel)",
   "language": "python",
   "name": "python3"
  },
  "language_info": {
   "codemirror_mode": {
    "name": "ipython",
    "version": 3
   },
   "file_extension": ".py",
   "mimetype": "text/x-python",
   "name": "python",
   "nbconvert_exporter": "python",
   "pygments_lexer": "ipython3",
   "version": "3.8.3"
  }
 },
 "nbformat": 4,
 "nbformat_minor": 4
}
